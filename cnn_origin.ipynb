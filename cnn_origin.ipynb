{
 "cells": [
  {
   "cell_type": "markdown",
   "source": [
    "# Using pure CNN's to classify cats vs dogs\n"
   ],
   "metadata": {
    "collapsed": false
   }
  },
  {
   "cell_type": "code",
   "execution_count": 1,
   "outputs": [],
   "source": [
    "import os\n",
    "import random\n",
    "import shutil\n",
    "import tensorflow as tf\n",
    "from tensorflow.keras.preprocessing.image import ImageDataGenerator\n",
    "from shutil import copyfile\n",
    "import matplotlib.pyplot as plt"
   ],
   "metadata": {
    "collapsed": false
   }
  },
  {
   "cell_type": "markdown",
   "source": [
    "## Extract the file (manually or using zipfile module)"
   ],
   "metadata": {
    "collapsed": false
   }
  },
  {
   "cell_type": "code",
   "execution_count": null,
   "outputs": [],
   "source": [
    "import zipfile\n",
    "# Extract the archive\n",
    "zip_ref = zipfile.ZipFile(\"./data/cats_and_dogs.zip\", 'r')\n",
    "zip_ref.extractall(\"./data\")\n",
    "zip_ref.close()"
   ],
   "metadata": {
    "collapsed": false
   }
  },
  {
   "cell_type": "markdown",
   "source": [
    "## informtion about the dataset"
   ],
   "metadata": {
    "collapsed": false
   }
  },
  {
   "cell_type": "code",
   "execution_count": 2,
   "outputs": [
    {
     "name": "stdout",
     "output_type": "stream",
     "text": [
      "There are 12500 images of dogs.\n",
      "There are 12500 images of cats.\n"
     ]
    }
   ],
   "source": [
    "source_path = './data/cats-and-dogs/PetImages/'\n",
    "\n",
    "source_path_dogs = os.path.join(source_path, 'Dog')\n",
    "source_path_cats = os.path.join(source_path, 'Cat')\n",
    "print(f\"There are {len(os.listdir(source_path_dogs))} images of dogs.\")\n",
    "print(f\"There are {len(os.listdir(source_path_cats))} images of cats.\")"
   ],
   "metadata": {
    "collapsed": false
   }
  },
  {
   "cell_type": "code",
   "execution_count": 2,
   "outputs": [],
   "source": [],
   "metadata": {
    "collapsed": false
   }
  },
  {
   "cell_type": "markdown",
   "source": [
    "## create training and test subdirectory"
   ],
   "metadata": {
    "collapsed": false
   }
  },
  {
   "cell_type": "markdown",
   "source": [],
   "metadata": {
    "collapsed": false
   }
  },
  {
   "cell_type": "code",
   "execution_count": 3,
   "outputs": [],
   "source": [
    "root_dir = './data'\n",
    "training_path = os.path.join(root_dir, \"training\")\n",
    "test_path = os.path.join(root_dir, \"validation\")\n",
    "training_path_cats = os.path.join(training_path, \"cats\")\n",
    "training_path_dogs = os.path.join(training_path, \"dogs\")\n",
    "test_path_cats = os.path.join(test_path, \"cats\")\n",
    "test_path_dogs = os.path.join(test_path, \"dogs\")\n",
    "\n",
    "if not os.path.exists(training_path):\n",
    "    os.makedirs(training_path)\n",
    "if not os.path.exists(test_path):\n",
    "    os.makedirs(test_path)\n",
    "if not os.path.exists(training_path_cats):\n",
    "    os.makedirs(training_path_cats)\n",
    "if not os.path.exists(training_path_dogs):\n",
    "    os.makedirs(training_path_dogs)\n",
    "if not os.path.exists(test_path_cats):\n",
    "    os.makedirs(test_path_cats)\n",
    "if not os.path.exists(test_path_dogs):\n",
    "    os.makedirs(test_path_dogs)"
   ],
   "metadata": {
    "collapsed": false
   }
  },
  {
   "cell_type": "markdown",
   "source": [],
   "metadata": {
    "collapsed": false
   }
  },
  {
   "cell_type": "markdown",
   "source": [
    "## split the data"
   ],
   "metadata": {
    "collapsed": false
   }
  },
  {
   "cell_type": "code",
   "execution_count": 4,
   "outputs": [],
   "source": [
    "def split_data(source_dir, training_dir, testing_dir, split_size):\n",
    "    files = []\n",
    "    for filename in os.listdir(source_dir):\n",
    "        file = os.path.join(source_dir, filename)\n",
    "        if os.path.getsize(file) > 0:\n",
    "            files.append(filename)\n",
    "        else:\n",
    "            print(filename + ' is zero length, so ignoring.')\n",
    "\n",
    "    training_length = int(len(files) * split_size)\n",
    "    testing_length = int(len(files) - training_length)\n",
    "    shuffled_set = random.sample(files, len(files))\n",
    "    training_set = shuffled_set[0:training_length]\n",
    "    testing_set = shuffled_set[-testing_length:]\n",
    "\n",
    "    for filename in training_set:\n",
    "        src_file = os.path.join(source_dir, filename)\n",
    "        dest_file = os.path.join(training_dir, filename)\n",
    "        copyfile(src_file, dest_file)\n",
    "\n",
    "    for filename in testing_set:\n",
    "        src_file = os.path.join(source_dir, filename)\n",
    "        dest_file = os.path.join(testing_dir, filename)\n",
    "        copyfile(src_file, dest_file)"
   ],
   "metadata": {
    "collapsed": false
   }
  },
  {
   "cell_type": "markdown",
   "source": [
    "## Copy the image from the dataset (it can be removed after copy)"
   ],
   "metadata": {
    "collapsed": false
   }
  },
  {
   "cell_type": "code",
   "execution_count": 5,
   "outputs": [
    {
     "name": "stdout",
     "output_type": "stream",
     "text": [
      "666.jpg is zero length, so ignoring.\n",
      "11702.jpg is zero length, so ignoring.\n"
     ]
    }
   ],
   "source": [
    "split_size = 0.9\n",
    "split_data(source_path_cats, training_path_cats, test_path_cats, split_size)\n",
    "split_data(source_path_dogs, training_path_dogs, test_path_dogs, split_size)"
   ],
   "metadata": {
    "collapsed": false
   }
  },
  {
   "cell_type": "markdown",
   "source": [
    "## Check the information of the image"
   ],
   "metadata": {
    "collapsed": false
   }
  },
  {
   "cell_type": "code",
   "execution_count": 6,
   "outputs": [
    {
     "name": "stdout",
     "output_type": "stream",
     "text": [
      "There are 11249 images of cats for training\n",
      "There are 11249 images of dogs for training\n",
      "There are 1250 images of cats for validation\n",
      "There are 1250 images of dogs for validation\n"
     ]
    }
   ],
   "source": [
    "# Training and validation splits\n",
    "print(f\"There are {len(os.listdir(training_path_cats))} images of cats for training\")\n",
    "print(f\"There are {len(os.listdir(training_path_dogs))} images of dogs for training\")\n",
    "print(f\"There are {len(os.listdir(test_path_cats))} images of cats for validation\")\n",
    "print(f\"There are {len(os.listdir(test_path_dogs))} images of dogs for validation\")"
   ],
   "metadata": {
    "collapsed": false
   }
  },
  {
   "cell_type": "markdown",
   "source": [
    "## Standarize the size of the image"
   ],
   "metadata": {
    "collapsed": false
   }
  },
  {
   "cell_type": "code",
   "execution_count": 7,
   "outputs": [
    {
     "name": "stdout",
     "output_type": "stream",
     "text": [
      "Found 22498 images belonging to 2 classes.\n",
      "Found 2500 images belonging to 2 classes.\n"
     ]
    }
   ],
   "source": [
    "train_datagen = ImageDataGenerator(rescale=1.0 / 255.)\n",
    "train_generator = train_datagen.flow_from_directory(directory=training_path, batch_size=100, class_mode='binary',\n",
    "                                                    target_size=(150, 150))\n",
    "\n",
    "validation_datagen = ImageDataGenerator(rescale=1.0 / 255.)\n",
    "validation_generator = validation_datagen.flow_from_directory(directory=test_path, batch_size=100, class_mode='binary',\n",
    "                                                              target_size=(150, 150))"
   ],
   "metadata": {
    "collapsed": false
   }
  },
  {
   "cell_type": "markdown",
   "source": [
    "## Create CNN model"
   ],
   "metadata": {
    "collapsed": false
   }
  },
  {
   "cell_type": "code",
   "execution_count": 8,
   "outputs": [],
   "source": [
    "model = tf.keras.models.Sequential([\n",
    "    tf.keras.layers.Conv2D(16,(3,3), activation = 'relu', input_shape=(150,150,3)),\n",
    "    tf.keras.layers.MaxPooling2D(2,2),\n",
    "    tf.keras.layers.Conv2D(32,(3,3), activation = 'relu'),\n",
    "    tf.keras.layers.MaxPooling2D(2,2),\n",
    "    tf.keras.layers.Conv2D(64,(3,3), activation = 'relu'),\n",
    "    tf.keras.layers.MaxPooling2D(2,2),\n",
    "    tf.keras.layers.Flatten(),\n",
    "    tf.keras.layers.Dense(512, activation = 'relu'),\n",
    "    tf.keras.layers.Dense(1, activation='sigmoid')\n",
    "  ])\n",
    "model.compile(optimizer = tf.keras.optimizers.RMSprop(learning_rate=0.001),\n",
    "            loss='binary_crossentropy',\n",
    "            metrics=['accuracy'])"
   ],
   "metadata": {
    "collapsed": false
   }
  },
  {
   "cell_type": "markdown",
   "source": [
    "## Train the model"
   ],
   "metadata": {
    "collapsed": false
   }
  },
  {
   "cell_type": "code",
   "execution_count": 9,
   "outputs": [
    {
     "name": "stdout",
     "output_type": "stream",
     "text": [
      "Epoch 1/15\n",
      " 55/225 [======>.......................] - ETA: 2:10 - loss: 0.7931 - accuracy: 0.5362"
     ]
    },
    {
     "name": "stderr",
     "output_type": "stream",
     "text": [
      "D:\\ApplicationApps\\Python3.8\\lib\\site-packages\\PIL\\TiffImagePlugin.py:771: UserWarning: Possibly corrupt EXIF data.  Expecting to read 32 bytes but only got 0. Skipping tag 270\n",
      "  warnings.warn(\n",
      "D:\\ApplicationApps\\Python3.8\\lib\\site-packages\\PIL\\TiffImagePlugin.py:771: UserWarning: Possibly corrupt EXIF data.  Expecting to read 5 bytes but only got 0. Skipping tag 271\n",
      "  warnings.warn(\n",
      "D:\\ApplicationApps\\Python3.8\\lib\\site-packages\\PIL\\TiffImagePlugin.py:771: UserWarning: Possibly corrupt EXIF data.  Expecting to read 8 bytes but only got 0. Skipping tag 272\n",
      "  warnings.warn(\n",
      "D:\\ApplicationApps\\Python3.8\\lib\\site-packages\\PIL\\TiffImagePlugin.py:771: UserWarning: Possibly corrupt EXIF data.  Expecting to read 8 bytes but only got 0. Skipping tag 282\n",
      "  warnings.warn(\n",
      "D:\\ApplicationApps\\Python3.8\\lib\\site-packages\\PIL\\TiffImagePlugin.py:771: UserWarning: Possibly corrupt EXIF data.  Expecting to read 8 bytes but only got 0. Skipping tag 283\n",
      "  warnings.warn(\n",
      "D:\\ApplicationApps\\Python3.8\\lib\\site-packages\\PIL\\TiffImagePlugin.py:771: UserWarning: Possibly corrupt EXIF data.  Expecting to read 20 bytes but only got 0. Skipping tag 306\n",
      "  warnings.warn(\n",
      "D:\\ApplicationApps\\Python3.8\\lib\\site-packages\\PIL\\TiffImagePlugin.py:771: UserWarning: Possibly corrupt EXIF data.  Expecting to read 48 bytes but only got 0. Skipping tag 532\n",
      "  warnings.warn(\n",
      "D:\\ApplicationApps\\Python3.8\\lib\\site-packages\\PIL\\TiffImagePlugin.py:793: UserWarning: Corrupt EXIF data.  Expecting to read 2 bytes but only got 0. \n",
      "  warnings.warn(str(msg))\n"
     ]
    },
    {
     "name": "stdout",
     "output_type": "stream",
     "text": [
      "225/225 [==============================] - 173s 768ms/step - loss: 0.6912 - accuracy: 0.6136 - val_loss: 0.5753 - val_accuracy: 0.7308\n",
      "Epoch 2/15\n",
      "225/225 [==============================] - 81s 361ms/step - loss: 0.5308 - accuracy: 0.7378 - val_loss: 0.4676 - val_accuracy: 0.7804\n",
      "Epoch 3/15\n",
      "225/225 [==============================] - 86s 384ms/step - loss: 0.4459 - accuracy: 0.7906 - val_loss: 0.5200 - val_accuracy: 0.7644\n",
      "Epoch 4/15\n",
      "225/225 [==============================] - 91s 406ms/step - loss: 0.3854 - accuracy: 0.8234 - val_loss: 0.4068 - val_accuracy: 0.8152\n",
      "Epoch 5/15\n",
      "225/225 [==============================] - 89s 396ms/step - loss: 0.3174 - accuracy: 0.8589 - val_loss: 0.4177 - val_accuracy: 0.8184\n",
      "Epoch 6/15\n",
      "225/225 [==============================] - 98s 435ms/step - loss: 0.2482 - accuracy: 0.8965 - val_loss: 0.4175 - val_accuracy: 0.8252\n",
      "Epoch 7/15\n",
      "225/225 [==============================] - 94s 416ms/step - loss: 0.1727 - accuracy: 0.9300 - val_loss: 0.4390 - val_accuracy: 0.8256\n",
      "Epoch 8/15\n",
      "225/225 [==============================] - 90s 401ms/step - loss: 0.1153 - accuracy: 0.9557 - val_loss: 0.5793 - val_accuracy: 0.8004\n",
      "Epoch 9/15\n",
      "225/225 [==============================] - 91s 405ms/step - loss: 0.0749 - accuracy: 0.9741 - val_loss: 1.1009 - val_accuracy: 0.7516\n",
      "Epoch 10/15\n",
      "225/225 [==============================] - 92s 407ms/step - loss: 0.0615 - accuracy: 0.9804 - val_loss: 0.7410 - val_accuracy: 0.8312\n",
      "Epoch 11/15\n",
      "225/225 [==============================] - 86s 384ms/step - loss: 0.0661 - accuracy: 0.9824 - val_loss: 0.8404 - val_accuracy: 0.8296\n",
      "Epoch 12/15\n",
      "225/225 [==============================] - 88s 389ms/step - loss: 0.0521 - accuracy: 0.9847 - val_loss: 0.8339 - val_accuracy: 0.8212\n",
      "Epoch 13/15\n",
      "225/225 [==============================] - 88s 392ms/step - loss: 0.0466 - accuracy: 0.9885 - val_loss: 0.8591 - val_accuracy: 0.8284\n",
      "Epoch 14/15\n",
      "225/225 [==============================] - 86s 382ms/step - loss: 0.0481 - accuracy: 0.9885 - val_loss: 1.1947 - val_accuracy: 0.8296\n",
      "Epoch 15/15\n",
      "225/225 [==============================] - 84s 372ms/step - loss: 0.0540 - accuracy: 0.9856 - val_loss: 1.1399 - val_accuracy: 0.8232\n"
     ]
    }
   ],
   "source": [
    "history = model.fit(train_generator,\n",
    "                    epochs=15,\n",
    "                    verbose=1,\n",
    "                    validation_data=validation_generator)"
   ],
   "metadata": {
    "collapsed": false
   }
  },
  {
   "cell_type": "markdown",
   "source": [
    "## Show the information about training"
   ],
   "metadata": {
    "collapsed": false
   }
  },
  {
   "cell_type": "code",
   "execution_count": 13,
   "outputs": [
    {
     "data": {
      "text/plain": "<Figure size 640x480 with 1 Axes>",
      "image/png": "[encoded data removed]"
     },
     "metadata": {},
     "output_type": "display_data"
    },
    {
     "name": "stdout",
     "output_type": "stream",
     "text": [
      "\n"
     ]
    },
    {
     "data": {
      "text/plain": "<Figure size 640x480 with 1 Axes>",
      "image/png": "[encoded data removed]"
     },
     "metadata": {},
     "output_type": "display_data"
    }
   ],
   "source": [
    "acc=history.history['accuracy']\n",
    "val_acc=history.history['val_accuracy']\n",
    "loss=history.history['loss']\n",
    "val_loss=history.history['val_loss']\n",
    "\n",
    "epochs=range(len(acc))\n",
    "plt.plot(epochs, acc, 'r', \"Training Accuracy\")\n",
    "plt.plot(epochs, val_acc, 'b', \"Validation Accuracy\")\n",
    "plt.title('Training and validation accuracy')\n",
    "plt.show()\n",
    "print(\"\")\n",
    "\n",
    "plt.plot(epochs, loss, 'r', \"Training Loss\")\n",
    "plt.plot(epochs, val_loss, 'b', \"Validation Loss\")\n",
    "plt.show()"
   ],
   "metadata": {
    "collapsed": false
   }
  }
 ],
 "metadata": {
  "kernelspec": {
   "display_name": "Python 3",
   "language": "python",
   "name": "python3"
  },
  "language_info": {
   "codemirror_mode": {
    "name": "ipython",
    "version": 2
   },
   "file_extension": ".py",
   "mimetype": "text/x-python",
   "name": "python",
   "nbconvert_exporter": "python",
   "pygments_lexer": "ipython2",
   "version": "2.7.6"
  }
 },
 "nbformat": 4,
 "nbformat_minor": 0
}
